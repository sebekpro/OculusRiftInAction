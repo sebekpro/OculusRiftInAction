{
  "nbformat": 4,
  "nbformat_minor": 0,
  "metadata": {
    "colab": {
      "provenance": [],
      "include_colab_link": true
    },
    "kernelspec": {
      "name": "python3",
      "display_name": "Python 3"
    }
  },
  "cells": [
    {
      "cell_type": "markdown",
      "metadata": {
        "id": "view-in-github",
        "colab_type": "text"
      },
      "source": [
        "<a href=\"https://colab.research.google.com/github/sebekpro/OculusRiftInAction/blob/master/06_uczenie_maszynowe/03_metryki_regresja.ipynb\" target=\"_parent\"><img src=\"https://colab.research.google.com/assets/colab-badge.svg\" alt=\"Open In Colab\"/></a>"
      ]
    },
    {
      "cell_type": "markdown",
      "metadata": {
        "id": "cVoURqdBJ6Vm"
      },
      "source": [
        "* @author: krakowiakpawel9@gmail.com  \n",
        "* @site: e-smartdata.org"
      ]
    },
    {
      "cell_type": "markdown",
      "metadata": {
        "id": "5gjFu2l9IMsj"
      },
      "source": [
        "### scikit-learn\n",
        ">Strona biblioteki: [https://scikit-learn.org](https://scikit-learn.org)  \n",
        ">\n",
        ">Dokumentacja/User Guide: [https://scikit-learn.org/stable/user_guide.html](https://scikit-learn.org/stable/user_guide.html)\n",
        ">\n",
        ">Podstawowa biblioteka do uczenia maszynowego w języku Python.\n",
        ">\n",
        ">Aby zainstalować bibliotekę scikit-learn, użyj polecenia poniżej:\n",
        "```\n",
        "pip install scikit-learn\n",
        "```\n",
        "\n",
        "### Metryki - Problem regresji:\n",
        "1. [Import bibliotek](#a0)\n",
        "2. [Interpretacja graficzna](#a2)\n",
        "3. [Mean Absolute Error - MAE - Średni błąd bezwzględny](#a3)\n",
        "4. [Mean Squared Error - MSE - Błąd średniokwadratowy](#a4)\n",
        "5. [Root Mean Squared Error - RMSE - Pierwiastek błędu średniokwadratowego](#a5)\n",
        "6. [Max Error - Błąd maksymalny](#a6)\n",
        "7. [R2 score - współczynnik determinacji](#a7)\n",
        "\n",
        "    "
      ]
    },
    {
      "cell_type": "markdown",
      "metadata": {
        "id": "1Dc4DhtS7LTD"
      },
      "source": [
        "### <a name='a0'></a>  Import bibliotek"
      ]
    },
    {
      "cell_type": "code",
      "metadata": {
        "id": "qQZ7LNIt7KAY"
      },
      "source": [
        "import numpy as np\n",
        "import pandas as pd\n",
        "import plotly.express as px\n",
        "import plotly.graph_objects as go"
      ],
      "execution_count": null,
      "outputs": []
    },
    {
      "cell_type": "code",
      "metadata": {
        "id": "GhNVhidb7SG7",
        "outputId": "4a8cd139-148e-41a4-8352-fda1763d810a",
        "colab": {
          "base_uri": "https://localhost:8080/"
        }
      },
      "source": [
        "y_true = 100 + 20 * np.random.randn(50)\n",
        "y_true"
      ],
      "execution_count": null,
      "outputs": [
        {
          "output_type": "execute_result",
          "data": {
            "text/plain": [
              "array([100.7367195 , 101.65159728,  84.24599086,  89.14513935,\n",
              "       121.52901072,  87.69250891,  73.12731193, 108.72308229,\n",
              "       100.39086177, 120.15909071, 115.27362614, 128.09167576,\n",
              "        92.59479064,  80.19131329, 103.86775422, 109.91801851,\n",
              "       120.37973818,  86.50291957, 121.97710474, 104.89224632,\n",
              "       115.90332196,  77.48656675, 131.51512122,  86.9276638 ,\n",
              "        86.60910037, 123.64224561,  96.8541802 ,  86.67701011,\n",
              "       119.04696991,  70.62401906,  95.460972  ,  97.44276247,\n",
              "        90.39650547,  97.83514879,  89.4489184 ,  98.56452517,\n",
              "       139.79963122, 108.93267912, 106.89231655, 123.61787538,\n",
              "        74.44107721, 122.56433414,  87.59079107,  82.05575793,\n",
              "       130.26475773,  75.18403842, 102.89443578,  67.79936786,\n",
              "       112.87437366, 147.42119357])"
            ]
          },
          "metadata": {},
          "execution_count": 2
        }
      ]
    },
    {
      "cell_type": "code",
      "metadata": {
        "id": "HuAJr61k7cJV",
        "outputId": "f748661e-ce70-4038-9570-93d36cbedf80",
        "colab": {
          "base_uri": "https://localhost:8080/"
        }
      },
      "source": [
        "y_pred = y_true + 10 * np.random.randn(50)\n",
        "y_pred"
      ],
      "execution_count": null,
      "outputs": [
        {
          "output_type": "execute_result",
          "data": {
            "text/plain": [
              "array([ 97.63290308, 100.13616571,  88.8926698 ,  79.76003349,\n",
              "       108.38849134, 100.86353767,  73.36808135,  95.94904531,\n",
              "       105.42726587, 129.28082892, 110.01443034, 126.70569968,\n",
              "        94.75261542,  83.82423382,  92.98096771, 113.92207587,\n",
              "       129.85891497,  99.36726984, 128.90179841, 107.615502  ,\n",
              "       120.85792324,  75.42792976, 139.84123598, 100.7764949 ,\n",
              "        88.98244084, 119.55091231, 105.41224132, 102.89767125,\n",
              "       108.53782635,  50.42297338,  91.30949439,  96.22361272,\n",
              "        94.64734916,  94.07345612, 102.80126162, 101.48745019,\n",
              "       141.90266124, 107.41523056, 128.38028204, 129.46066223,\n",
              "        73.47225881, 129.18477224,  79.41103218,  83.87979332,\n",
              "       128.66252669,  61.28021212, 114.81524365,  67.55910636,\n",
              "       118.43286482, 145.29773499])"
            ]
          },
          "metadata": {},
          "execution_count": 3
        }
      ]
    },
    {
      "cell_type": "code",
      "metadata": {
        "id": "8V3ah8zL7n2P",
        "outputId": "66f49c59-cc66-403a-cab4-007e463e1cf3",
        "colab": {
          "base_uri": "https://localhost:8080/",
          "height": 206
        }
      },
      "source": [
        "results = pd.DataFrame({'y_true': y_true, 'y_pred': y_pred})\n",
        "results.head()"
      ],
      "execution_count": null,
      "outputs": [
        {
          "output_type": "execute_result",
          "data": {
            "text/plain": [
              "       y_true      y_pred\n",
              "0  100.736720   97.632903\n",
              "1  101.651597  100.136166\n",
              "2   84.245991   88.892670\n",
              "3   89.145139   79.760033\n",
              "4  121.529011  108.388491"
            ],
            "text/html": [
              "\n",
              "  <div id=\"df-6c57d76f-7277-46cc-a287-7b811d22f696\" class=\"colab-df-container\">\n",
              "    <div>\n",
              "<style scoped>\n",
              "    .dataframe tbody tr th:only-of-type {\n",
              "        vertical-align: middle;\n",
              "    }\n",
              "\n",
              "    .dataframe tbody tr th {\n",
              "        vertical-align: top;\n",
              "    }\n",
              "\n",
              "    .dataframe thead th {\n",
              "        text-align: right;\n",
              "    }\n",
              "</style>\n",
              "<table border=\"1\" class=\"dataframe\">\n",
              "  <thead>\n",
              "    <tr style=\"text-align: right;\">\n",
              "      <th></th>\n",
              "      <th>y_true</th>\n",
              "      <th>y_pred</th>\n",
              "    </tr>\n",
              "  </thead>\n",
              "  <tbody>\n",
              "    <tr>\n",
              "      <th>0</th>\n",
              "      <td>100.736720</td>\n",
              "      <td>97.632903</td>\n",
              "    </tr>\n",
              "    <tr>\n",
              "      <th>1</th>\n",
              "      <td>101.651597</td>\n",
              "      <td>100.136166</td>\n",
              "    </tr>\n",
              "    <tr>\n",
              "      <th>2</th>\n",
              "      <td>84.245991</td>\n",
              "      <td>88.892670</td>\n",
              "    </tr>\n",
              "    <tr>\n",
              "      <th>3</th>\n",
              "      <td>89.145139</td>\n",
              "      <td>79.760033</td>\n",
              "    </tr>\n",
              "    <tr>\n",
              "      <th>4</th>\n",
              "      <td>121.529011</td>\n",
              "      <td>108.388491</td>\n",
              "    </tr>\n",
              "  </tbody>\n",
              "</table>\n",
              "</div>\n",
              "    <div class=\"colab-df-buttons\">\n",
              "\n",
              "  <div class=\"colab-df-container\">\n",
              "    <button class=\"colab-df-convert\" onclick=\"convertToInteractive('df-6c57d76f-7277-46cc-a287-7b811d22f696')\"\n",
              "            title=\"Convert this dataframe to an interactive table.\"\n",
              "            style=\"display:none;\">\n",
              "\n",
              "  <svg xmlns=\"http://www.w3.org/2000/svg\" height=\"24px\" viewBox=\"0 -960 960 960\">\n",
              "    <path d=\"M120-120v-720h720v720H120Zm60-500h600v-160H180v160Zm220 220h160v-160H400v160Zm0 220h160v-160H400v160ZM180-400h160v-160H180v160Zm440 0h160v-160H620v160ZM180-180h160v-160H180v160Zm440 0h160v-160H620v160Z\"/>\n",
              "  </svg>\n",
              "    </button>\n",
              "\n",
              "  <style>\n",
              "    .colab-df-container {\n",
              "      display:flex;\n",
              "      gap: 12px;\n",
              "    }\n",
              "\n",
              "    .colab-df-convert {\n",
              "      background-color: #E8F0FE;\n",
              "      border: none;\n",
              "      border-radius: 50%;\n",
              "      cursor: pointer;\n",
              "      display: none;\n",
              "      fill: #1967D2;\n",
              "      height: 32px;\n",
              "      padding: 0 0 0 0;\n",
              "      width: 32px;\n",
              "    }\n",
              "\n",
              "    .colab-df-convert:hover {\n",
              "      background-color: #E2EBFA;\n",
              "      box-shadow: 0px 1px 2px rgba(60, 64, 67, 0.3), 0px 1px 3px 1px rgba(60, 64, 67, 0.15);\n",
              "      fill: #174EA6;\n",
              "    }\n",
              "\n",
              "    .colab-df-buttons div {\n",
              "      margin-bottom: 4px;\n",
              "    }\n",
              "\n",
              "    [theme=dark] .colab-df-convert {\n",
              "      background-color: #3B4455;\n",
              "      fill: #D2E3FC;\n",
              "    }\n",
              "\n",
              "    [theme=dark] .colab-df-convert:hover {\n",
              "      background-color: #434B5C;\n",
              "      box-shadow: 0px 1px 3px 1px rgba(0, 0, 0, 0.15);\n",
              "      filter: drop-shadow(0px 1px 2px rgba(0, 0, 0, 0.3));\n",
              "      fill: #FFFFFF;\n",
              "    }\n",
              "  </style>\n",
              "\n",
              "    <script>\n",
              "      const buttonEl =\n",
              "        document.querySelector('#df-6c57d76f-7277-46cc-a287-7b811d22f696 button.colab-df-convert');\n",
              "      buttonEl.style.display =\n",
              "        google.colab.kernel.accessAllowed ? 'block' : 'none';\n",
              "\n",
              "      async function convertToInteractive(key) {\n",
              "        const element = document.querySelector('#df-6c57d76f-7277-46cc-a287-7b811d22f696');\n",
              "        const dataTable =\n",
              "          await google.colab.kernel.invokeFunction('convertToInteractive',\n",
              "                                                    [key], {});\n",
              "        if (!dataTable) return;\n",
              "\n",
              "        const docLinkHtml = 'Like what you see? Visit the ' +\n",
              "          '<a target=\"_blank\" href=https://colab.research.google.com/notebooks/data_table.ipynb>data table notebook</a>'\n",
              "          + ' to learn more about interactive tables.';\n",
              "        element.innerHTML = '';\n",
              "        dataTable['output_type'] = 'display_data';\n",
              "        await google.colab.output.renderOutput(dataTable, element);\n",
              "        const docLink = document.createElement('div');\n",
              "        docLink.innerHTML = docLinkHtml;\n",
              "        element.appendChild(docLink);\n",
              "      }\n",
              "    </script>\n",
              "  </div>\n",
              "\n",
              "\n",
              "<div id=\"df-f3126917-5a84-4dad-b613-75349dd18941\">\n",
              "  <button class=\"colab-df-quickchart\" onclick=\"quickchart('df-f3126917-5a84-4dad-b613-75349dd18941')\"\n",
              "            title=\"Suggest charts\"\n",
              "            style=\"display:none;\">\n",
              "\n",
              "<svg xmlns=\"http://www.w3.org/2000/svg\" height=\"24px\"viewBox=\"0 0 24 24\"\n",
              "     width=\"24px\">\n",
              "    <g>\n",
              "        <path d=\"M19 3H5c-1.1 0-2 .9-2 2v14c0 1.1.9 2 2 2h14c1.1 0 2-.9 2-2V5c0-1.1-.9-2-2-2zM9 17H7v-7h2v7zm4 0h-2V7h2v10zm4 0h-2v-4h2v4z\"/>\n",
              "    </g>\n",
              "</svg>\n",
              "  </button>\n",
              "\n",
              "<style>\n",
              "  .colab-df-quickchart {\n",
              "      --bg-color: #E8F0FE;\n",
              "      --fill-color: #1967D2;\n",
              "      --hover-bg-color: #E2EBFA;\n",
              "      --hover-fill-color: #174EA6;\n",
              "      --disabled-fill-color: #AAA;\n",
              "      --disabled-bg-color: #DDD;\n",
              "  }\n",
              "\n",
              "  [theme=dark] .colab-df-quickchart {\n",
              "      --bg-color: #3B4455;\n",
              "      --fill-color: #D2E3FC;\n",
              "      --hover-bg-color: #434B5C;\n",
              "      --hover-fill-color: #FFFFFF;\n",
              "      --disabled-bg-color: #3B4455;\n",
              "      --disabled-fill-color: #666;\n",
              "  }\n",
              "\n",
              "  .colab-df-quickchart {\n",
              "    background-color: var(--bg-color);\n",
              "    border: none;\n",
              "    border-radius: 50%;\n",
              "    cursor: pointer;\n",
              "    display: none;\n",
              "    fill: var(--fill-color);\n",
              "    height: 32px;\n",
              "    padding: 0;\n",
              "    width: 32px;\n",
              "  }\n",
              "\n",
              "  .colab-df-quickchart:hover {\n",
              "    background-color: var(--hover-bg-color);\n",
              "    box-shadow: 0 1px 2px rgba(60, 64, 67, 0.3), 0 1px 3px 1px rgba(60, 64, 67, 0.15);\n",
              "    fill: var(--button-hover-fill-color);\n",
              "  }\n",
              "\n",
              "  .colab-df-quickchart-complete:disabled,\n",
              "  .colab-df-quickchart-complete:disabled:hover {\n",
              "    background-color: var(--disabled-bg-color);\n",
              "    fill: var(--disabled-fill-color);\n",
              "    box-shadow: none;\n",
              "  }\n",
              "\n",
              "  .colab-df-spinner {\n",
              "    border: 2px solid var(--fill-color);\n",
              "    border-color: transparent;\n",
              "    border-bottom-color: var(--fill-color);\n",
              "    animation:\n",
              "      spin 1s steps(1) infinite;\n",
              "  }\n",
              "\n",
              "  @keyframes spin {\n",
              "    0% {\n",
              "      border-color: transparent;\n",
              "      border-bottom-color: var(--fill-color);\n",
              "      border-left-color: var(--fill-color);\n",
              "    }\n",
              "    20% {\n",
              "      border-color: transparent;\n",
              "      border-left-color: var(--fill-color);\n",
              "      border-top-color: var(--fill-color);\n",
              "    }\n",
              "    30% {\n",
              "      border-color: transparent;\n",
              "      border-left-color: var(--fill-color);\n",
              "      border-top-color: var(--fill-color);\n",
              "      border-right-color: var(--fill-color);\n",
              "    }\n",
              "    40% {\n",
              "      border-color: transparent;\n",
              "      border-right-color: var(--fill-color);\n",
              "      border-top-color: var(--fill-color);\n",
              "    }\n",
              "    60% {\n",
              "      border-color: transparent;\n",
              "      border-right-color: var(--fill-color);\n",
              "    }\n",
              "    80% {\n",
              "      border-color: transparent;\n",
              "      border-right-color: var(--fill-color);\n",
              "      border-bottom-color: var(--fill-color);\n",
              "    }\n",
              "    90% {\n",
              "      border-color: transparent;\n",
              "      border-bottom-color: var(--fill-color);\n",
              "    }\n",
              "  }\n",
              "</style>\n",
              "\n",
              "  <script>\n",
              "    async function quickchart(key) {\n",
              "      const quickchartButtonEl =\n",
              "        document.querySelector('#' + key + ' button');\n",
              "      quickchartButtonEl.disabled = true;  // To prevent multiple clicks.\n",
              "      quickchartButtonEl.classList.add('colab-df-spinner');\n",
              "      try {\n",
              "        const charts = await google.colab.kernel.invokeFunction(\n",
              "            'suggestCharts', [key], {});\n",
              "      } catch (error) {\n",
              "        console.error('Error during call to suggestCharts:', error);\n",
              "      }\n",
              "      quickchartButtonEl.classList.remove('colab-df-spinner');\n",
              "      quickchartButtonEl.classList.add('colab-df-quickchart-complete');\n",
              "    }\n",
              "    (() => {\n",
              "      let quickchartButtonEl =\n",
              "        document.querySelector('#df-f3126917-5a84-4dad-b613-75349dd18941 button');\n",
              "      quickchartButtonEl.style.display =\n",
              "        google.colab.kernel.accessAllowed ? 'block' : 'none';\n",
              "    })();\n",
              "  </script>\n",
              "</div>\n",
              "\n",
              "    </div>\n",
              "  </div>\n"
            ],
            "application/vnd.google.colaboratory.intrinsic+json": {
              "type": "dataframe",
              "variable_name": "results",
              "summary": "{\n  \"name\": \"results\",\n  \"rows\": 50,\n  \"fields\": [\n    {\n      \"column\": \"y_true\",\n      \"properties\": {\n        \"dtype\": \"number\",\n        \"std\": 19.11121677178267,\n        \"min\": 67.79936786080502,\n        \"max\": 147.42119357462204,\n        \"num_unique_values\": 50,\n        \"samples\": [\n          80.19131329273588,\n          123.6178753765955,\n          95.46097200346584\n        ],\n        \"semantic_type\": \"\",\n        \"description\": \"\"\n      }\n    },\n    {\n      \"column\": \"y_pred\",\n      \"properties\": {\n        \"dtype\": \"number\",\n        \"std\": 21.354724739164926,\n        \"min\": 50.42297337561365,\n        \"max\": 145.29773499450903,\n        \"num_unique_values\": 50,\n        \"samples\": [\n          83.82423382415753,\n          129.460662234371,\n          91.3094943931981\n        ],\n        \"semantic_type\": \"\",\n        \"description\": \"\"\n      }\n    }\n  ]\n}"
            }
          },
          "metadata": {},
          "execution_count": 4
        }
      ]
    },
    {
      "cell_type": "code",
      "metadata": {
        "id": "SPMt-m1e78VI",
        "outputId": "d1c95275-704c-48f2-b64c-7f12856199ec",
        "colab": {
          "base_uri": "https://localhost:8080/",
          "height": 206
        }
      },
      "source": [
        "results['error'] = results['y_true'] - results['y_pred']\n",
        "results.head()"
      ],
      "execution_count": null,
      "outputs": [
        {
          "output_type": "execute_result",
          "data": {
            "text/plain": [
              "       y_true      y_pred      error\n",
              "0  100.736720   97.632903   3.103816\n",
              "1  101.651597  100.136166   1.515432\n",
              "2   84.245991   88.892670  -4.646679\n",
              "3   89.145139   79.760033   9.385106\n",
              "4  121.529011  108.388491  13.140519"
            ],
            "text/html": [
              "\n",
              "  <div id=\"df-10807804-8771-4918-ab7e-9cc3300d776d\" class=\"colab-df-container\">\n",
              "    <div>\n",
              "<style scoped>\n",
              "    .dataframe tbody tr th:only-of-type {\n",
              "        vertical-align: middle;\n",
              "    }\n",
              "\n",
              "    .dataframe tbody tr th {\n",
              "        vertical-align: top;\n",
              "    }\n",
              "\n",
              "    .dataframe thead th {\n",
              "        text-align: right;\n",
              "    }\n",
              "</style>\n",
              "<table border=\"1\" class=\"dataframe\">\n",
              "  <thead>\n",
              "    <tr style=\"text-align: right;\">\n",
              "      <th></th>\n",
              "      <th>y_true</th>\n",
              "      <th>y_pred</th>\n",
              "      <th>error</th>\n",
              "    </tr>\n",
              "  </thead>\n",
              "  <tbody>\n",
              "    <tr>\n",
              "      <th>0</th>\n",
              "      <td>100.736720</td>\n",
              "      <td>97.632903</td>\n",
              "      <td>3.103816</td>\n",
              "    </tr>\n",
              "    <tr>\n",
              "      <th>1</th>\n",
              "      <td>101.651597</td>\n",
              "      <td>100.136166</td>\n",
              "      <td>1.515432</td>\n",
              "    </tr>\n",
              "    <tr>\n",
              "      <th>2</th>\n",
              "      <td>84.245991</td>\n",
              "      <td>88.892670</td>\n",
              "      <td>-4.646679</td>\n",
              "    </tr>\n",
              "    <tr>\n",
              "      <th>3</th>\n",
              "      <td>89.145139</td>\n",
              "      <td>79.760033</td>\n",
              "      <td>9.385106</td>\n",
              "    </tr>\n",
              "    <tr>\n",
              "      <th>4</th>\n",
              "      <td>121.529011</td>\n",
              "      <td>108.388491</td>\n",
              "      <td>13.140519</td>\n",
              "    </tr>\n",
              "  </tbody>\n",
              "</table>\n",
              "</div>\n",
              "    <div class=\"colab-df-buttons\">\n",
              "\n",
              "  <div class=\"colab-df-container\">\n",
              "    <button class=\"colab-df-convert\" onclick=\"convertToInteractive('df-10807804-8771-4918-ab7e-9cc3300d776d')\"\n",
              "            title=\"Convert this dataframe to an interactive table.\"\n",
              "            style=\"display:none;\">\n",
              "\n",
              "  <svg xmlns=\"http://www.w3.org/2000/svg\" height=\"24px\" viewBox=\"0 -960 960 960\">\n",
              "    <path d=\"M120-120v-720h720v720H120Zm60-500h600v-160H180v160Zm220 220h160v-160H400v160Zm0 220h160v-160H400v160ZM180-400h160v-160H180v160Zm440 0h160v-160H620v160ZM180-180h160v-160H180v160Zm440 0h160v-160H620v160Z\"/>\n",
              "  </svg>\n",
              "    </button>\n",
              "\n",
              "  <style>\n",
              "    .colab-df-container {\n",
              "      display:flex;\n",
              "      gap: 12px;\n",
              "    }\n",
              "\n",
              "    .colab-df-convert {\n",
              "      background-color: #E8F0FE;\n",
              "      border: none;\n",
              "      border-radius: 50%;\n",
              "      cursor: pointer;\n",
              "      display: none;\n",
              "      fill: #1967D2;\n",
              "      height: 32px;\n",
              "      padding: 0 0 0 0;\n",
              "      width: 32px;\n",
              "    }\n",
              "\n",
              "    .colab-df-convert:hover {\n",
              "      background-color: #E2EBFA;\n",
              "      box-shadow: 0px 1px 2px rgba(60, 64, 67, 0.3), 0px 1px 3px 1px rgba(60, 64, 67, 0.15);\n",
              "      fill: #174EA6;\n",
              "    }\n",
              "\n",
              "    .colab-df-buttons div {\n",
              "      margin-bottom: 4px;\n",
              "    }\n",
              "\n",
              "    [theme=dark] .colab-df-convert {\n",
              "      background-color: #3B4455;\n",
              "      fill: #D2E3FC;\n",
              "    }\n",
              "\n",
              "    [theme=dark] .colab-df-convert:hover {\n",
              "      background-color: #434B5C;\n",
              "      box-shadow: 0px 1px 3px 1px rgba(0, 0, 0, 0.15);\n",
              "      filter: drop-shadow(0px 1px 2px rgba(0, 0, 0, 0.3));\n",
              "      fill: #FFFFFF;\n",
              "    }\n",
              "  </style>\n",
              "\n",
              "    <script>\n",
              "      const buttonEl =\n",
              "        document.querySelector('#df-10807804-8771-4918-ab7e-9cc3300d776d button.colab-df-convert');\n",
              "      buttonEl.style.display =\n",
              "        google.colab.kernel.accessAllowed ? 'block' : 'none';\n",
              "\n",
              "      async function convertToInteractive(key) {\n",
              "        const element = document.querySelector('#df-10807804-8771-4918-ab7e-9cc3300d776d');\n",
              "        const dataTable =\n",
              "          await google.colab.kernel.invokeFunction('convertToInteractive',\n",
              "                                                    [key], {});\n",
              "        if (!dataTable) return;\n",
              "\n",
              "        const docLinkHtml = 'Like what you see? Visit the ' +\n",
              "          '<a target=\"_blank\" href=https://colab.research.google.com/notebooks/data_table.ipynb>data table notebook</a>'\n",
              "          + ' to learn more about interactive tables.';\n",
              "        element.innerHTML = '';\n",
              "        dataTable['output_type'] = 'display_data';\n",
              "        await google.colab.output.renderOutput(dataTable, element);\n",
              "        const docLink = document.createElement('div');\n",
              "        docLink.innerHTML = docLinkHtml;\n",
              "        element.appendChild(docLink);\n",
              "      }\n",
              "    </script>\n",
              "  </div>\n",
              "\n",
              "\n",
              "<div id=\"df-d7f27df2-5818-4a98-9841-4458305e6eb4\">\n",
              "  <button class=\"colab-df-quickchart\" onclick=\"quickchart('df-d7f27df2-5818-4a98-9841-4458305e6eb4')\"\n",
              "            title=\"Suggest charts\"\n",
              "            style=\"display:none;\">\n",
              "\n",
              "<svg xmlns=\"http://www.w3.org/2000/svg\" height=\"24px\"viewBox=\"0 0 24 24\"\n",
              "     width=\"24px\">\n",
              "    <g>\n",
              "        <path d=\"M19 3H5c-1.1 0-2 .9-2 2v14c0 1.1.9 2 2 2h14c1.1 0 2-.9 2-2V5c0-1.1-.9-2-2-2zM9 17H7v-7h2v7zm4 0h-2V7h2v10zm4 0h-2v-4h2v4z\"/>\n",
              "    </g>\n",
              "</svg>\n",
              "  </button>\n",
              "\n",
              "<style>\n",
              "  .colab-df-quickchart {\n",
              "      --bg-color: #E8F0FE;\n",
              "      --fill-color: #1967D2;\n",
              "      --hover-bg-color: #E2EBFA;\n",
              "      --hover-fill-color: #174EA6;\n",
              "      --disabled-fill-color: #AAA;\n",
              "      --disabled-bg-color: #DDD;\n",
              "  }\n",
              "\n",
              "  [theme=dark] .colab-df-quickchart {\n",
              "      --bg-color: #3B4455;\n",
              "      --fill-color: #D2E3FC;\n",
              "      --hover-bg-color: #434B5C;\n",
              "      --hover-fill-color: #FFFFFF;\n",
              "      --disabled-bg-color: #3B4455;\n",
              "      --disabled-fill-color: #666;\n",
              "  }\n",
              "\n",
              "  .colab-df-quickchart {\n",
              "    background-color: var(--bg-color);\n",
              "    border: none;\n",
              "    border-radius: 50%;\n",
              "    cursor: pointer;\n",
              "    display: none;\n",
              "    fill: var(--fill-color);\n",
              "    height: 32px;\n",
              "    padding: 0;\n",
              "    width: 32px;\n",
              "  }\n",
              "\n",
              "  .colab-df-quickchart:hover {\n",
              "    background-color: var(--hover-bg-color);\n",
              "    box-shadow: 0 1px 2px rgba(60, 64, 67, 0.3), 0 1px 3px 1px rgba(60, 64, 67, 0.15);\n",
              "    fill: var(--button-hover-fill-color);\n",
              "  }\n",
              "\n",
              "  .colab-df-quickchart-complete:disabled,\n",
              "  .colab-df-quickchart-complete:disabled:hover {\n",
              "    background-color: var(--disabled-bg-color);\n",
              "    fill: var(--disabled-fill-color);\n",
              "    box-shadow: none;\n",
              "  }\n",
              "\n",
              "  .colab-df-spinner {\n",
              "    border: 2px solid var(--fill-color);\n",
              "    border-color: transparent;\n",
              "    border-bottom-color: var(--fill-color);\n",
              "    animation:\n",
              "      spin 1s steps(1) infinite;\n",
              "  }\n",
              "\n",
              "  @keyframes spin {\n",
              "    0% {\n",
              "      border-color: transparent;\n",
              "      border-bottom-color: var(--fill-color);\n",
              "      border-left-color: var(--fill-color);\n",
              "    }\n",
              "    20% {\n",
              "      border-color: transparent;\n",
              "      border-left-color: var(--fill-color);\n",
              "      border-top-color: var(--fill-color);\n",
              "    }\n",
              "    30% {\n",
              "      border-color: transparent;\n",
              "      border-left-color: var(--fill-color);\n",
              "      border-top-color: var(--fill-color);\n",
              "      border-right-color: var(--fill-color);\n",
              "    }\n",
              "    40% {\n",
              "      border-color: transparent;\n",
              "      border-right-color: var(--fill-color);\n",
              "      border-top-color: var(--fill-color);\n",
              "    }\n",
              "    60% {\n",
              "      border-color: transparent;\n",
              "      border-right-color: var(--fill-color);\n",
              "    }\n",
              "    80% {\n",
              "      border-color: transparent;\n",
              "      border-right-color: var(--fill-color);\n",
              "      border-bottom-color: var(--fill-color);\n",
              "    }\n",
              "    90% {\n",
              "      border-color: transparent;\n",
              "      border-bottom-color: var(--fill-color);\n",
              "    }\n",
              "  }\n",
              "</style>\n",
              "\n",
              "  <script>\n",
              "    async function quickchart(key) {\n",
              "      const quickchartButtonEl =\n",
              "        document.querySelector('#' + key + ' button');\n",
              "      quickchartButtonEl.disabled = true;  // To prevent multiple clicks.\n",
              "      quickchartButtonEl.classList.add('colab-df-spinner');\n",
              "      try {\n",
              "        const charts = await google.colab.kernel.invokeFunction(\n",
              "            'suggestCharts', [key], {});\n",
              "      } catch (error) {\n",
              "        console.error('Error during call to suggestCharts:', error);\n",
              "      }\n",
              "      quickchartButtonEl.classList.remove('colab-df-spinner');\n",
              "      quickchartButtonEl.classList.add('colab-df-quickchart-complete');\n",
              "    }\n",
              "    (() => {\n",
              "      let quickchartButtonEl =\n",
              "        document.querySelector('#df-d7f27df2-5818-4a98-9841-4458305e6eb4 button');\n",
              "      quickchartButtonEl.style.display =\n",
              "        google.colab.kernel.accessAllowed ? 'block' : 'none';\n",
              "    })();\n",
              "  </script>\n",
              "</div>\n",
              "\n",
              "    </div>\n",
              "  </div>\n"
            ],
            "application/vnd.google.colaboratory.intrinsic+json": {
              "type": "dataframe",
              "variable_name": "results",
              "summary": "{\n  \"name\": \"results\",\n  \"rows\": 50,\n  \"fields\": [\n    {\n      \"column\": \"y_true\",\n      \"properties\": {\n        \"dtype\": \"number\",\n        \"std\": 19.11121677178267,\n        \"min\": 67.79936786080502,\n        \"max\": 147.42119357462204,\n        \"num_unique_values\": 50,\n        \"samples\": [\n          80.19131329273588,\n          123.6178753765955,\n          95.46097200346584\n        ],\n        \"semantic_type\": \"\",\n        \"description\": \"\"\n      }\n    },\n    {\n      \"column\": \"y_pred\",\n      \"properties\": {\n        \"dtype\": \"number\",\n        \"std\": 21.354724739164926,\n        \"min\": 50.42297337561365,\n        \"max\": 145.29773499450903,\n        \"num_unique_values\": 50,\n        \"samples\": [\n          83.82423382415753,\n          129.460662234371,\n          91.3094943931981\n        ],\n        \"semantic_type\": \"\",\n        \"description\": \"\"\n      }\n    },\n    {\n      \"column\": \"error\",\n      \"properties\": {\n        \"dtype\": \"number\",\n        \"std\": 8.480474836489213,\n        \"min\": -21.487965487076607,\n        \"max\": 20.201045680423732,\n        \"num_unique_values\": 50,\n        \"samples\": [\n          -3.6329205314216466,\n          -5.842786857775494,\n          4.151477610267747\n        ],\n        \"semantic_type\": \"\",\n        \"description\": \"\"\n      }\n    }\n  ]\n}"
            }
          },
          "metadata": {},
          "execution_count": 5
        }
      ]
    },
    {
      "cell_type": "markdown",
      "metadata": {
        "id": "JkXYHzBlCrXB"
      },
      "source": [
        "\n",
        "### <a name='a2'></a> Interpretacja graficzna"
      ]
    },
    {
      "cell_type": "code",
      "metadata": {
        "id": "aFdc5zl6_bih",
        "outputId": "0abd0da9-354b-442b-ffc8-471bc1bc8db3",
        "colab": {
          "base_uri": "https://localhost:8080/",
          "height": 517
        }
      },
      "source": [
        "def plot_regression_results(y_true, y_pred):\n",
        "    results = pd.DataFrame({'y_true': y_true, 'y_pred': y_pred})\n",
        "    min = results[['y_true', 'y_pred']].min().min()\n",
        "    max = results[['y_true', 'y_pred']].max().max()\n",
        "\n",
        "    fig = go.Figure(data=[go.Scatter(x=results['y_true'], y=results['y_pred'], mode='markers'),\n",
        "                    go.Scatter(x=[min, max], y=[min, max])],\n",
        "                    layout=go.Layout(showlegend=False, width=800, height=500,\n",
        "                                     xaxis_title='y_true',\n",
        "                                     yaxis_title='y_pred',\n",
        "                                     title='Regression results'))\n",
        "    fig.show()\n",
        "plot_regression_results(y_true, y_pred)"
      ],
      "execution_count": null,
      "outputs": [
        {
          "output_type": "display_data",
          "data": {
            "text/html": [
              "<html>\n",
              "<head><meta charset=\"utf-8\" /></head>\n",
              "<body>\n",
              "    <div>            <script src=\"https://cdnjs.cloudflare.com/ajax/libs/mathjax/2.7.5/MathJax.js?config=TeX-AMS-MML_SVG\"></script><script type=\"text/javascript\">if (window.MathJax && window.MathJax.Hub && window.MathJax.Hub.Config) {window.MathJax.Hub.Config({SVG: {font: \"STIX-Web\"}});}</script>                <script type=\"text/javascript\">window.PlotlyConfig = {MathJaxConfig: 'local'};</script>\n",
              "        <script charset=\"utf-8\" src=\"https://cdn.plot.ly/plotly-2.35.2.min.js\"></script>                <div id=\"20fc5951-ae45-484e-97c4-83d7a2796d28\" class=\"plotly-graph-div\" style=\"height:500px; width:800px;\"></div>            <script type=\"text/javascript\">                                    window.PLOTLYENV=window.PLOTLYENV || {};                                    if (document.getElementById(\"20fc5951-ae45-484e-97c4-83d7a2796d28\")) {                    Plotly.newPlot(                        \"20fc5951-ae45-484e-97c4-83d7a2796d28\",                        [{\"mode\":\"markers\",\"x\":[100.73671950333814,101.65159727733754,84.2459908629097,89.14513935146181,121.52901072131208,87.69250890786714,73.12731193462639,108.72308228871725,100.39086177476057,120.15909071080215,115.27362614154734,128.09167576464262,92.59479064177489,80.19131329273588,103.86775421868042,109.91801851253972,120.37973817846287,86.50291957006196,121.97710474480819,104.89224631523562,115.90332195751802,77.48656674639835,131.5151212232569,86.92766380459236,86.60910036828315,123.64224560833775,96.8541802009585,86.67701010890575,119.04696990875203,70.62401905603738,95.46097200346584,97.44276246507353,90.39650546671278,97.83514878540919,89.44891840471868,98.5645251705943,139.79963122155868,108.93267912279734,106.89231655440561,123.6178753765955,74.44107720803977,122.56433414208823,87.59079106752593,82.05575793373511,130.2647577322649,75.18403842387951,102.89443578358106,67.79936786080502,112.87437365755322,147.42119357462204],\"y\":[97.63290307954031,100.13616571148276,88.89266979762495,79.76003349187143,108.38849134469437,100.863537674029,73.36808134720705,95.94904530768588,105.42726586669228,129.28082891919766,110.01443033640578,126.70569967582497,94.75261541815351,83.82423382415753,92.98096771209275,113.9220758712776,129.85891496873526,99.36726984386432,128.9017984057105,107.61550200120847,120.85792324272985,75.42792976140917,139.8412359753139,100.77649489659862,88.98244084152067,119.55091230532106,105.41224132091821,102.89767124549402,108.5378263529721,50.42297337561365,91.3094943931981,96.2236127183082,94.64734916394582,94.07345611996149,102.80126161685871,101.48745019421952,141.90266124217186,107.41523056456576,128.38028204148222,129.460662234371,73.47225880857465,129.18477224018216,79.41103218110679,83.87979332476601,128.6625266948701,61.28021211569673,114.81524365314154,67.55910636029299,118.43286482239346,145.29773499450903],\"type\":\"scatter\"},{\"x\":[50.42297337561365,147.42119357462204],\"y\":[50.42297337561365,147.42119357462204],\"type\":\"scatter\"}],                        {\"height\":500,\"showlegend\":false,\"title\":{\"text\":\"Regression results\"},\"width\":800,\"xaxis\":{\"title\":{\"text\":\"y_true\"}},\"yaxis\":{\"title\":{\"text\":\"y_pred\"}},\"template\":{\"data\":{\"histogram2dcontour\":[{\"type\":\"histogram2dcontour\",\"colorbar\":{\"outlinewidth\":0,\"ticks\":\"\"},\"colorscale\":[[0.0,\"#0d0887\"],[0.1111111111111111,\"#46039f\"],[0.2222222222222222,\"#7201a8\"],[0.3333333333333333,\"#9c179e\"],[0.4444444444444444,\"#bd3786\"],[0.5555555555555556,\"#d8576b\"],[0.6666666666666666,\"#ed7953\"],[0.7777777777777778,\"#fb9f3a\"],[0.8888888888888888,\"#fdca26\"],[1.0,\"#f0f921\"]]}],\"choropleth\":[{\"type\":\"choropleth\",\"colorbar\":{\"outlinewidth\":0,\"ticks\":\"\"}}],\"histogram2d\":[{\"type\":\"histogram2d\",\"colorbar\":{\"outlinewidth\":0,\"ticks\":\"\"},\"colorscale\":[[0.0,\"#0d0887\"],[0.1111111111111111,\"#46039f\"],[0.2222222222222222,\"#7201a8\"],[0.3333333333333333,\"#9c179e\"],[0.4444444444444444,\"#bd3786\"],[0.5555555555555556,\"#d8576b\"],[0.6666666666666666,\"#ed7953\"],[0.7777777777777778,\"#fb9f3a\"],[0.8888888888888888,\"#fdca26\"],[1.0,\"#f0f921\"]]}],\"heatmap\":[{\"type\":\"heatmap\",\"colorbar\":{\"outlinewidth\":0,\"ticks\":\"\"},\"colorscale\":[[0.0,\"#0d0887\"],[0.1111111111111111,\"#46039f\"],[0.2222222222222222,\"#7201a8\"],[0.3333333333333333,\"#9c179e\"],[0.4444444444444444,\"#bd3786\"],[0.5555555555555556,\"#d8576b\"],[0.6666666666666666,\"#ed7953\"],[0.7777777777777778,\"#fb9f3a\"],[0.8888888888888888,\"#fdca26\"],[1.0,\"#f0f921\"]]}],\"heatmapgl\":[{\"type\":\"heatmapgl\",\"colorbar\":{\"outlinewidth\":0,\"ticks\":\"\"},\"colorscale\":[[0.0,\"#0d0887\"],[0.1111111111111111,\"#46039f\"],[0.2222222222222222,\"#7201a8\"],[0.3333333333333333,\"#9c179e\"],[0.4444444444444444,\"#bd3786\"],[0.5555555555555556,\"#d8576b\"],[0.6666666666666666,\"#ed7953\"],[0.7777777777777778,\"#fb9f3a\"],[0.8888888888888888,\"#fdca26\"],[1.0,\"#f0f921\"]]}],\"contourcarpet\":[{\"type\":\"contourcarpet\",\"colorbar\":{\"outlinewidth\":0,\"ticks\":\"\"}}],\"contour\":[{\"type\":\"contour\",\"colorbar\":{\"outlinewidth\":0,\"ticks\":\"\"},\"colorscale\":[[0.0,\"#0d0887\"],[0.1111111111111111,\"#46039f\"],[0.2222222222222222,\"#7201a8\"],[0.3333333333333333,\"#9c179e\"],[0.4444444444444444,\"#bd3786\"],[0.5555555555555556,\"#d8576b\"],[0.6666666666666666,\"#ed7953\"],[0.7777777777777778,\"#fb9f3a\"],[0.8888888888888888,\"#fdca26\"],[1.0,\"#f0f921\"]]}],\"surface\":[{\"type\":\"surface\",\"colorbar\":{\"outlinewidth\":0,\"ticks\":\"\"},\"colorscale\":[[0.0,\"#0d0887\"],[0.1111111111111111,\"#46039f\"],[0.2222222222222222,\"#7201a8\"],[0.3333333333333333,\"#9c179e\"],[0.4444444444444444,\"#bd3786\"],[0.5555555555555556,\"#d8576b\"],[0.6666666666666666,\"#ed7953\"],[0.7777777777777778,\"#fb9f3a\"],[0.8888888888888888,\"#fdca26\"],[1.0,\"#f0f921\"]]}],\"mesh3d\":[{\"type\":\"mesh3d\",\"colorbar\":{\"outlinewidth\":0,\"ticks\":\"\"}}],\"scatter\":[{\"fillpattern\":{\"fillmode\":\"overlay\",\"size\":10,\"solidity\":0.2},\"type\":\"scatter\"}],\"parcoords\":[{\"type\":\"parcoords\",\"line\":{\"colorbar\":{\"outlinewidth\":0,\"ticks\":\"\"}}}],\"scatterpolargl\":[{\"type\":\"scatterpolargl\",\"marker\":{\"colorbar\":{\"outlinewidth\":0,\"ticks\":\"\"}}}],\"bar\":[{\"error_x\":{\"color\":\"#2a3f5f\"},\"error_y\":{\"color\":\"#2a3f5f\"},\"marker\":{\"line\":{\"color\":\"#E5ECF6\",\"width\":0.5},\"pattern\":{\"fillmode\":\"overlay\",\"size\":10,\"solidity\":0.2}},\"type\":\"bar\"}],\"scattergeo\":[{\"type\":\"scattergeo\",\"marker\":{\"colorbar\":{\"outlinewidth\":0,\"ticks\":\"\"}}}],\"scatterpolar\":[{\"type\":\"scatterpolar\",\"marker\":{\"colorbar\":{\"outlinewidth\":0,\"ticks\":\"\"}}}],\"histogram\":[{\"marker\":{\"pattern\":{\"fillmode\":\"overlay\",\"size\":10,\"solidity\":0.2}},\"type\":\"histogram\"}],\"scattergl\":[{\"type\":\"scattergl\",\"marker\":{\"colorbar\":{\"outlinewidth\":0,\"ticks\":\"\"}}}],\"scatter3d\":[{\"type\":\"scatter3d\",\"line\":{\"colorbar\":{\"outlinewidth\":0,\"ticks\":\"\"}},\"marker\":{\"colorbar\":{\"outlinewidth\":0,\"ticks\":\"\"}}}],\"scattermapbox\":[{\"type\":\"scattermapbox\",\"marker\":{\"colorbar\":{\"outlinewidth\":0,\"ticks\":\"\"}}}],\"scatterternary\":[{\"type\":\"scatterternary\",\"marker\":{\"colorbar\":{\"outlinewidth\":0,\"ticks\":\"\"}}}],\"scattercarpet\":[{\"type\":\"scattercarpet\",\"marker\":{\"colorbar\":{\"outlinewidth\":0,\"ticks\":\"\"}}}],\"carpet\":[{\"aaxis\":{\"endlinecolor\":\"#2a3f5f\",\"gridcolor\":\"white\",\"linecolor\":\"white\",\"minorgridcolor\":\"white\",\"startlinecolor\":\"#2a3f5f\"},\"baxis\":{\"endlinecolor\":\"#2a3f5f\",\"gridcolor\":\"white\",\"linecolor\":\"white\",\"minorgridcolor\":\"white\",\"startlinecolor\":\"#2a3f5f\"},\"type\":\"carpet\"}],\"table\":[{\"cells\":{\"fill\":{\"color\":\"#EBF0F8\"},\"line\":{\"color\":\"white\"}},\"header\":{\"fill\":{\"color\":\"#C8D4E3\"},\"line\":{\"color\":\"white\"}},\"type\":\"table\"}],\"barpolar\":[{\"marker\":{\"line\":{\"color\":\"#E5ECF6\",\"width\":0.5},\"pattern\":{\"fillmode\":\"overlay\",\"size\":10,\"solidity\":0.2}},\"type\":\"barpolar\"}],\"pie\":[{\"automargin\":true,\"type\":\"pie\"}]},\"layout\":{\"autotypenumbers\":\"strict\",\"colorway\":[\"#636efa\",\"#EF553B\",\"#00cc96\",\"#ab63fa\",\"#FFA15A\",\"#19d3f3\",\"#FF6692\",\"#B6E880\",\"#FF97FF\",\"#FECB52\"],\"font\":{\"color\":\"#2a3f5f\"},\"hovermode\":\"closest\",\"hoverlabel\":{\"align\":\"left\"},\"paper_bgcolor\":\"white\",\"plot_bgcolor\":\"#E5ECF6\",\"polar\":{\"bgcolor\":\"#E5ECF6\",\"angularaxis\":{\"gridcolor\":\"white\",\"linecolor\":\"white\",\"ticks\":\"\"},\"radialaxis\":{\"gridcolor\":\"white\",\"linecolor\":\"white\",\"ticks\":\"\"}},\"ternary\":{\"bgcolor\":\"#E5ECF6\",\"aaxis\":{\"gridcolor\":\"white\",\"linecolor\":\"white\",\"ticks\":\"\"},\"baxis\":{\"gridcolor\":\"white\",\"linecolor\":\"white\",\"ticks\":\"\"},\"caxis\":{\"gridcolor\":\"white\",\"linecolor\":\"white\",\"ticks\":\"\"}},\"coloraxis\":{\"colorbar\":{\"outlinewidth\":0,\"ticks\":\"\"}},\"colorscale\":{\"sequential\":[[0.0,\"#0d0887\"],[0.1111111111111111,\"#46039f\"],[0.2222222222222222,\"#7201a8\"],[0.3333333333333333,\"#9c179e\"],[0.4444444444444444,\"#bd3786\"],[0.5555555555555556,\"#d8576b\"],[0.6666666666666666,\"#ed7953\"],[0.7777777777777778,\"#fb9f3a\"],[0.8888888888888888,\"#fdca26\"],[1.0,\"#f0f921\"]],\"sequentialminus\":[[0.0,\"#0d0887\"],[0.1111111111111111,\"#46039f\"],[0.2222222222222222,\"#7201a8\"],[0.3333333333333333,\"#9c179e\"],[0.4444444444444444,\"#bd3786\"],[0.5555555555555556,\"#d8576b\"],[0.6666666666666666,\"#ed7953\"],[0.7777777777777778,\"#fb9f3a\"],[0.8888888888888888,\"#fdca26\"],[1.0,\"#f0f921\"]],\"diverging\":[[0,\"#8e0152\"],[0.1,\"#c51b7d\"],[0.2,\"#de77ae\"],[0.3,\"#f1b6da\"],[0.4,\"#fde0ef\"],[0.5,\"#f7f7f7\"],[0.6,\"#e6f5d0\"],[0.7,\"#b8e186\"],[0.8,\"#7fbc41\"],[0.9,\"#4d9221\"],[1,\"#276419\"]]},\"xaxis\":{\"gridcolor\":\"white\",\"linecolor\":\"white\",\"ticks\":\"\",\"title\":{\"standoff\":15},\"zerolinecolor\":\"white\",\"automargin\":true,\"zerolinewidth\":2},\"yaxis\":{\"gridcolor\":\"white\",\"linecolor\":\"white\",\"ticks\":\"\",\"title\":{\"standoff\":15},\"zerolinecolor\":\"white\",\"automargin\":true,\"zerolinewidth\":2},\"scene\":{\"xaxis\":{\"backgroundcolor\":\"#E5ECF6\",\"gridcolor\":\"white\",\"linecolor\":\"white\",\"showbackground\":true,\"ticks\":\"\",\"zerolinecolor\":\"white\",\"gridwidth\":2},\"yaxis\":{\"backgroundcolor\":\"#E5ECF6\",\"gridcolor\":\"white\",\"linecolor\":\"white\",\"showbackground\":true,\"ticks\":\"\",\"zerolinecolor\":\"white\",\"gridwidth\":2},\"zaxis\":{\"backgroundcolor\":\"#E5ECF6\",\"gridcolor\":\"white\",\"linecolor\":\"white\",\"showbackground\":true,\"ticks\":\"\",\"zerolinecolor\":\"white\",\"gridwidth\":2}},\"shapedefaults\":{\"line\":{\"color\":\"#2a3f5f\"}},\"annotationdefaults\":{\"arrowcolor\":\"#2a3f5f\",\"arrowhead\":0,\"arrowwidth\":1},\"geo\":{\"bgcolor\":\"white\",\"landcolor\":\"#E5ECF6\",\"subunitcolor\":\"white\",\"showland\":true,\"showlakes\":true,\"lakecolor\":\"white\"},\"title\":{\"x\":0.05},\"mapbox\":{\"style\":\"light\"}}}},                        {\"responsive\": true}                    ).then(function(){\n",
              "                            \n",
              "var gd = document.getElementById('20fc5951-ae45-484e-97c4-83d7a2796d28');\n",
              "var x = new MutationObserver(function (mutations, observer) {{\n",
              "        var display = window.getComputedStyle(gd).display;\n",
              "        if (!display || display === 'none') {{\n",
              "            console.log([gd, 'removed!']);\n",
              "            Plotly.purge(gd);\n",
              "            observer.disconnect();\n",
              "        }}\n",
              "}});\n",
              "\n",
              "// Listen for the removal of the full notebook cells\n",
              "var notebookContainer = gd.closest('#notebook-container');\n",
              "if (notebookContainer) {{\n",
              "    x.observe(notebookContainer, {childList: true});\n",
              "}}\n",
              "\n",
              "// Listen for the clearing of the current output cell\n",
              "var outputEl = gd.closest('.output');\n",
              "if (outputEl) {{\n",
              "    x.observe(outputEl, {childList: true});\n",
              "}}\n",
              "\n",
              "                        })                };                            </script>        </div>\n",
              "</body>\n",
              "</html>"
            ]
          },
          "metadata": {}
        }
      ]
    },
    {
      "cell_type": "code",
      "metadata": {
        "id": "2j7Zs1XLDGCL",
        "outputId": "bba52a32-050f-42ac-ca46-bb7b8911ed3c",
        "colab": {
          "base_uri": "https://localhost:8080/",
          "height": 542
        }
      },
      "source": [
        "y_true = 100 + 20 * np.random.randn(1000)\n",
        "y_pred = y_true + 10 * np.random.randn(1000)\n",
        "results = pd.DataFrame({'y_true': y_true, 'y_pred': y_pred})\n",
        "results['error'] = results['y_true'] - results['y_pred']\n",
        "\n",
        "px.histogram(results, x='error', nbins=50, width=800)"
      ],
      "execution_count": null,
      "outputs": [
        {
          "output_type": "display_data",
          "data": {
            "text/html": [
              "<html>\n",
              "<head><meta charset=\"utf-8\" /></head>\n",
              "<body>\n",
              "    <div>            <script src=\"https://cdnjs.cloudflare.com/ajax/libs/mathjax/2.7.5/MathJax.js?config=TeX-AMS-MML_SVG\"></script><script type=\"text/javascript\">if (window.MathJax && window.MathJax.Hub && window.MathJax.Hub.Config) {window.MathJax.Hub.Config({SVG: {font: \"STIX-Web\"}});}</script>                <script type=\"text/javascript\">window.PlotlyConfig = {MathJaxConfig: 'local'};</script>\n",
              "        <script charset=\"utf-8\" src=\"https://cdn.plot.ly/plotly-2.35.2.min.js\"></script>                <div id=\"9ab3cd5d-72d2-4dd7-801b-430c4f23419d\" class=\"plotly-graph-div\" style=\"height:525px; width:800px;\"></div>            <script type=\"text/javascript\">                                    window.PLOTLYENV=window.PLOTLYENV || {};                                    if (document.getElementById(\"9ab3cd5d-72d2-4dd7-801b-430c4f23419d\")) {                    Plotly.newPlot(                        \"9ab3cd5d-72d2-4dd7-801b-430c4f23419d\",                        [{\"alignmentgroup\":\"True\",\"bingroup\":\"x\",\"hovertemplate\":\"error=%{x}\\u003cbr\\u003ecount=%{y}\\u003cextra\\u003e\\u003c\\u002fextra\\u003e\",\"legendgroup\":\"\",\"marker\":{\"color\":\"#636efa\",\"pattern\":{\"shape\":\"\"}},\"name\":\"\",\"nbinsx\":50,\"offsetgroup\":\"\",\"orientation\":\"v\",\"showlegend\":false,\"x\":[-2.8117583099848105,17.361124236798176,-0.8507220717006732,-0.834495447120787,-5.806218897985232,-7.632125089396354,5.919409102765542,2.1500193111361625,5.787569115522004,1.2952330783152917,1.0044828574652485,-10.155156084526652,14.584954049095188,-7.321171289846433,-4.572016159237251,3.1895075510620927,12.614442435944142,21.29694121015315,12.3915789457198,9.89444271744,9.24130590751463,9.243830284732098,-10.382621947042225,8.195744117524768,6.590679051716755,3.409052155852038,-1.9145163876789724,-16.35499484074687,6.289302061742703,-2.0985910672308137,6.952195386438902,0.18035915928975044,-8.467032700617494,-1.7961309959841998,4.111380231820476,2.6624923525863977,-12.143798229200613,-1.7615364293471032,9.827244595658371,-3.472356679664486,2.864495157016094,5.419362842808525,-0.6686247402697205,1.8264516493134124,5.3884383281666715,20.278487517808458,-16.113757347614495,1.5546594826490008,11.254969215373862,-12.167810217295823,-0.32250240948023645,13.96542942956421,-1.5062347364897022,13.485869687976418,-0.10183244341965292,-3.288880500062689,-13.209239430759695,-19.389719770057,12.871088110305166,4.636050958193138,2.1870730648522283,-2.907856102442807,-3.66970922644704,8.919614275331682,-35.295737025438,11.754604149602457,13.917500763724519,19.612893957968147,-18.17613869230709,-5.304670835754024,-6.398385394149571,4.826791963612095,8.126758739099387,-9.084526250331862,-7.6306050429565175,11.888344857288018,5.625226070585271,-2.631985725558181,-14.199009760091997,-3.5992927846030227,21.62883102681377,9.57999132183248,11.443940963007535,0.4122403651779365,-3.7523997468396573,-23.44631717990572,0.26879711419393004,9.620874734039035,-8.291012324619828,2.3945156604778077,-10.433805636133371,8.744937716161488,1.5703352101783281,-2.968408742624433,-4.941418068976098,3.3034360331082624,-8.102057351496853,10.071917015718697,9.395896508809216,5.302958324333929,-8.070962418470117,5.260899392479331,4.422744894478583,-1.5458855178728044,-3.700410583909033,-9.391668339578004,-18.512923836101322,8.315645164448142,1.792825499343536,-5.490179639276704,8.45400081267077,-0.8179494654699226,-7.789579702591375,9.362292138993467,-19.490085611121174,6.889742687504118,10.609414082199763,-7.694324755889653,3.8907988331907006,-3.587940534786341,3.976020831408846,-3.420971547647852,-9.959779648713592,-10.797116062106511,-10.864826907091611,-18.73258331257867,9.569512785259704,-5.014205838118201,-5.046269248342867,1.652487819323028,8.332059290762942,-1.7283015236906891,-3.767230817209679,10.818164545397053,-12.355654981856674,-5.158442728104802,0.19835486769086685,-1.5823386152950292,-10.997974596565442,-9.680172789234007,-7.400537342278341,-15.833911378993847,7.116516724979235,-11.846677046315023,12.241908392779237,5.862075784213772,-6.291550865445956,-0.9475905813493313,-4.128540835126273,-4.108805546109352,13.984653653798034,12.334102115629122,-4.799342502697328,5.341070388511042,8.962170651755713,9.397862410995614,-3.657889036547033,16.207511817960096,13.616129267343155,-9.267545498353925,-13.597854624201176,2.123098512082052,3.0034432374670956,-2.593152928796826,-1.0823627113598349,-7.076812898158778,7.981625654074719,-7.209103691104076,-7.580194657635204,-0.28159884982430583,-1.6745220218040089,7.1221499519580505,-2.156608697864044,5.200673594720627,-6.577184335857012,0.7170327060795643,-15.243095340671687,-0.6136024114685057,-4.659301441508276,14.008738620354066,4.504306308272902,4.920279704580537,-9.039871311353792,0.42179088586092917,-23.235513918170113,13.480785448896796,-4.802795908815682,3.2471217719147916,-1.3885453254434736,-3.4116484823391175,-12.376080767706398,-24.60995193609793,-23.390473133247696,20.136522941820857,-0.34460112177374924,-17.273439530673613,6.142969662123065,6.4799447009682325,9.592472555018574,18.224028008192334,-4.357718103713339,2.075916665523849,5.8162873785303475,2.511711817525409,-4.6253988538083775,7.9861003456104385,-9.266446503669926,0.9346535477286722,5.593209773504057,5.530657433232946,-16.46032147342713,-10.762740846205332,-11.051331725255693,10.899768515729733,11.6341396796698,1.7089245715675503,-1.2777494677028756,13.849210878374322,4.047543516618134,-26.25661468958168,-9.650930838239233,2.4121260962457427,-12.903632627304049,3.3211934714418447,0.6309233321596821,-8.973732529276425,3.893788732648261,8.89517533805116,7.049910356943329,5.635132036245082,3.6163247268320475,-1.3739214993220656,-15.679998887546006,0.7229276387315764,-11.909731023067096,5.846068167312339,-5.274983660360803,3.5089724117843986,-8.045311927169777,-3.3219485450598114,2.3456804864856196,1.2556954900169472,-16.622522795386516,12.085130962910313,-11.190293989348746,-3.055598175550003,-18.690383524174848,-16.307955413605683,0.14292365050383182,5.529659092450771,-3.6288176001898194,10.410633618609666,-9.048281770719171,8.821594292501885,13.042859860723851,-5.972662355537267,7.7603133592319296,-14.652666970799004,-9.664307403221883,12.487584314638482,-19.14932523474559,-7.043489151681953,-0.10342306345053487,11.373743224109461,6.3949300974298495,-1.7174161158943377,-12.914618182222213,-13.775988207275475,-3.367180644906199,-5.854052369866949,19.533405847715414,-11.007515182507461,0.8525078013312708,25.649304047741524,-0.22083983220639425,4.475249771413331,-1.7565784582712922,-3.622462789652957,3.8767992944916045,2.0160064776652007,2.4838054920311947,7.667561298455524,9.45996762157668,-18.291384953323444,-5.493258872273842,-4.837100463669259,-1.6027635434596306,-5.8896069504224045,-10.573426301032043,-9.35435716735418,-15.23497768768486,5.554551022257485,-8.164528370143131,-8.798992239304567,3.105380524297402,-12.694340108043264,21.676463655683307,-5.157756322975956,6.635099149639572,-10.078079227778858,5.266692536089096,-14.83539928505914,-5.701586212143781,-10.50525582171889,-9.899141657148647,-8.982490661242679,-6.193677983103953,-2.655582182245965,8.78800465472969,1.19094400051074,7.052656786932275,-19.08020872206785,3.375762956194208,-2.0651060296810044,11.43443983038135,-9.723053395510476,-4.671051885019551,-32.67520366359663,-9.038174148294559,1.0802006951694807,-2.2064311033633714,7.220648399194545,16.49137220386403,16.307666164309737,5.305766139765012,-7.5012021829937225,-13.474111830062768,-15.136711039560026,-0.4872697571223483,-0.190597447709834,3.475114009769797,6.010907009461874,-6.343433577394933,3.2838974070043605,-15.421489847471904,-8.510030785613324,11.322273028194388,11.548105375520166,6.821023485920634,1.1336113267284134,15.779147712495657,-5.801430717272041,-0.9111629764513935,-2.6163021170053753,18.842593355982217,-7.065339270955448,-0.5821608474509503,1.199647078755774,-19.173907177261952,-8.289378318599077,1.0744448664637076,-4.6497324698970885,12.589154445546384,0.870333014153374,-0.04031861361410449,7.670861395630098,-9.275318278732172,-2.0755663232538666,-3.3725623423211175,-7.399658857758141,0.21284350344156167,11.290874713384994,-4.693536967258922,-3.440043635058373,14.88156068084129,6.815518551486605,-1.2341288942306363,-5.5443459056915,4.712211486729444,5.068116029559917,4.270947773496175,12.025767757400445,-6.985821740035817,-3.2846094715584115,3.7900957918398035,-4.02666639786878,-9.357133234470012,-0.7223464499071781,10.040033967000241,-13.169545572284875,-16.10680401304309,6.340322236937197,-6.658249725083522,-9.945177832614363,-7.382660307440915,0.09510568973000488,-3.6249788465854778,-7.851861302712422,7.036895078447003,2.7586509784463544,-1.020726932735144,7.877673203679464,1.3487966564502756,1.233891382799868,-4.821726743981614,8.129766618795813,12.39110961140625,9.606783204137358,-6.550012044138853,6.505127010256956,-8.655498983737886,-11.184270201861551,-8.382325806325724,-7.754879143874859,-9.287389948804723,1.5532919086605688,-15.715768177644279,9.860524479567403,-5.790940565849937,5.214021443005137,0.7850250763758737,19.828002201061963,9.202069037857058,3.917149518806596,-3.9515392807901577,-14.104780552237727,8.519898224521299,8.421679402555782,-9.68053408436053,-3.344223610898595,5.321045701513455,16.677279395717363,7.8341545338037974,-13.392734610773559,-0.7911064604442828,2.3069363865876937,-15.95918533039324,-4.675604671828381,-10.97165611737438,-21.32018023308474,12.123046973668906,-3.963348847697162,-6.212834039217242,-2.053413753336031,-9.750433148774746,-7.27612991626215,-6.590319162862272,7.467280494731888,-3.640964781319269,-0.8612043362164599,-1.3805147428174962,-2.5726440603546905,-2.844248942327937,32.77358337002688,11.913294144079657,9.825390520311728,2.8892502394545545,-15.154353529114587,-13.040098025418274,3.9051446034611956,-20.430007571737377,-0.0756788014943055,7.395190955498066,5.7295357574873265,2.823159706087182,-7.5252515079375115,7.954390678971208,-0.9882085638891169,1.3962960572799545,-12.185426038128682,24.702293367792237,-7.332687139504472,-2.6443670782497293,3.123432471980081,17.172546224316605,-4.575704354983387,1.471247645036044,-10.797273259913155,1.8410521660281205,-6.83591276275601,-7.023110793536617,6.427650613480793,-7.76156572085884,-1.8219081407081177,-4.434816875177191,12.191868805152971,1.614389329499403,-16.39084438824395,-4.870137612041717,-12.616927774595624,-9.519709741480597,-1.319856940052901,-0.5417380584998313,-8.25236685401569,3.375927244495827,-1.2301855601045304,10.52304523681265,-0.9244156171828593,-3.033258697212645,2.5510280566841175,10.693882890658983,18.19020308676062,6.891321771573303,-4.255127304748498,-5.399528796854526,19.20764406401858,15.95940494575484,-9.581834081079506,-15.389873928023917,-7.346416394259137,0.14516320558786333,-0.6058550639216591,10.986128054928272,18.858413656451816,-3.468058659837453,1.8820783020115783,5.869175909164937,-7.969174310743625,6.023754236499286,-6.8102828508665,4.753102226916383,5.428770458938956,4.013934749868085,-17.677122268045323,7.011094193049814,-0.2936340317834407,7.456585877836204,-5.445597717812234,-5.711752293715023,3.598111781060979,10.454852149679056,4.8139001366428005,-4.71805221842871,-2.857194874958452,-18.52537487434647,-20.44986265976499,9.844833539263163,-3.2413276203280788,-12.951495724954952,-7.794785952244297,17.396836353836548,1.6729639173271096,5.303825877463538,-8.666665358586982,1.0377283490116866,-4.002507939341953,-5.965852010199512,5.884557285538364,1.282751346541943,-14.34175192082185,5.836959927677398,2.8711440471015237,-11.066149339154919,-5.037721758773699,5.071705534149487,-18.60327963600794,2.48407331421825,-2.539127477719049,-15.298622194105292,-3.642410496388635,5.341967558279769,16.185422096750067,1.0561290035503532,8.66682777936795,-14.037418197466202,-3.6213453290254023,15.529594528820013,-17.608419291218908,5.60888980145306,9.182603797509032,-13.49635461142438,-4.822600187650039,4.782834319630069,-5.919910015336626,1.9521768628346905,-6.126056611301962,5.670261973601214,13.768256145973709,7.760159176473621,23.030818348712145,11.186665023027942,-0.21508868644632173,-5.869103518491045,-3.0393858663609734,5.290179500715396,4.753500522490441,-15.009029948155018,-9.702867165343633,8.71868622991579,-4.6969862741512145,-7.374710641230962,-7.7508179844111424,-3.9785193931918315,-13.248577585721364,-1.8545410677492953,-2.0575931201604476,-1.2344392728514464,-9.531814596045436,0.87565665171158,-0.2937760113549217,-2.1197221892367253,-3.232394374971136,-9.216531679255453,-1.6161416157838886,-9.98320851698466,12.62347613803739,-7.23271175062068,-1.3550576259679303,1.9775537848213816,0.30816559398661525,5.8955211360866855,9.704422247238952,-31.966637622710408,-9.59679761766499,1.90590353128772,14.935388765531506,2.1083783510991765,1.7820622157469472,6.308166143074061,27.8114186651177,7.722501958499592,1.6123047309250609,-10.557795486842195,7.0315518285325,0.5464244879755,-4.125120680241494,14.316032471139067,-2.237818153822701,-5.644026229473383,10.708604543896215,3.544074140100946,23.039639935458297,-3.2586726245163646,-13.725907813357907,17.693226330518286,-18.279836900880966,7.336152215370987,2.0183623873836893,-9.141958102307058,-1.5837800929344041,-0.7533011843782447,4.365454551422303,-4.587773932182827,0.6626382983292132,-13.049928143493275,3.604632614532747,-3.3884412203263707,5.298990394353581,-14.786807067848628,7.375746823851443,3.3907315599540198,-3.131008372630262,-10.31398936462449,11.014302845110976,-0.8394664552329942,3.4076503826807567,9.729215785351514,-8.55264920695518,-10.656519445014126,4.202555868859477,0.3946591722777555,-3.9979940080458505,-10.135887035030535,16.12499253678513,9.93781291213736,-16.60898480051023,-7.4153521575966295,4.7489914417291175,9.352372881211295,0.35824374915581814,-16.309269885205893,1.7583031385155437,-2.3566893612021147,2.380251953750488,2.2931002183483002,6.587586576644199,-10.556514869911013,-7.515060206074622,9.510679127999495,13.008304574269289,-23.438571512964543,1.871262382726485,-3.4296938187184054,16.05410190792935,-3.166127992639886,2.214812736778285,-8.298728980790742,11.524678690132333,-0.9127943269679122,0.7137937270876762,15.11877918425975,-0.44205125478949014,-4.865176768764229,8.581722036473124,16.266978948310197,16.860688009015817,-10.675760885989448,-1.376855941089417,11.172617323081916,3.541430249857598,3.448850543716688,0.5491453859876003,5.870014057732618,16.521047649252438,-3.0899951309500153,-10.732376487698716,-1.5855913569532731,-2.5416414288796005,-9.501466929751402,11.888295048300279,8.64934670750712,-6.9202645729037755,-0.8314778001175114,-5.590102707830567,4.74161138270145,-5.939757653521298,-10.105527726159337,-7.40690125214455,-2.9347652171262695,5.9492907536767206,3.585020266333828,-17.26758569457897,-5.28440802363329,3.3207084751196447,18.689725543170482,-3.182250574422966,8.499230117731372,14.25402262248734,2.7186875383036124,18.5720780149139,20.690116680578114,-2.5719715913382686,-18.037987190236493,-18.899669131294857,6.263523171368817,2.244558715450509,9.013002324129559,-10.740740889273695,-0.46583874618443133,-9.653649388276833,13.851468150213066,14.002518288285302,-4.495041650766211,-5.6379592233306255,-10.480136605204365,-3.3272069949965584,-4.869566049758049,-16.670570759057185,-7.840982105406994,2.527173400837654,2.984698150288864,9.637088109772492,-18.921855192052362,2.589947861069149,6.485312212277691,18.61381450904338,-1.223001725334342,-3.2067628156476644,2.1292938040234475,4.732610035499846,-16.124467271193495,15.681419338551649,22.935951114220742,6.116505917896063,-6.483772728187617,-15.847724516744606,0.12256774263533998,-4.066735790752773,-6.203833187589439,1.1078355139653127,12.616700611370092,25.038543472347826,-5.91905621972451,-8.396579982598865,-2.4501637909890377,-11.423832768957084,-5.679001884991422,-5.164722796017195,-0.5107817239716042,7.205988806210627,14.52037173529807,5.402577765559798,16.348584586103,-19.07652441479432,-13.868509915445372,14.644935260219256,-4.397988298329494,20.332224138894347,-4.139555824275291,-12.583786138966417,-2.441170468849265,8.163332180396438,-7.411042868367915,1.7969947892450335,2.4689038911431282,6.273512311355887,11.845740101078789,7.592752235310101,-11.586120736211555,-5.783196936498484,-6.201922522440384,26.703534856801937,-0.5127090496666398,3.5950044593727313,0.9013471006980041,7.367450347799419,13.117907606721403,13.807708705269818,13.14572232838512,6.1475747781170185,-7.349683853157487,-4.022790240121978,-1.2572358916436883,-7.313255752260062,7.936120713065932,5.813971933630761,3.2046096188426674,7.62675155312408,15.042088339444433,-5.2675813577120465,16.138293193957907,-0.21711313192545845,12.31746046730295,-9.052525768356077,0.43743283004879174,-0.5956225920121341,11.254064823037481,-13.247107648172289,3.9082388839024134,-11.60703338476877,12.071097314267163,-3.78448868539391,-7.204000595641148,-0.705092784344771,7.16172992712967,4.17357968432313,-3.3806382486887827,-7.211730936840297,4.840550578116037,-1.2184467796180911,1.060724311682094,6.55229836253136,6.625012531085289,21.67638849784133,2.5123998214548493,19.447032680009954,8.883736132110656,0.9290306716500965,-2.2689552801437856,6.3227228815653405,2.527665539843852,2.5895910783706455,0.129139647288099,-4.207644048816832,9.45410741170842,0.2792224914547745,6.277898338009194,0.32207332414178325,-7.500539312153961,7.478337625061272,7.252641337589765,2.995425843335255,-5.019228484212533,14.317502378952561,-13.695603016675221,4.667045946292745,-1.893297364430552,-14.557901420448104,-6.381159964812753,-7.7984408896888056,14.796923524874842,8.454873668880097,11.385466624183188,3.26712331334636,-16.369442826682658,4.7833470690897855,-12.515595000794207,5.837159152630321,-13.49282097219566,14.859132299154183,2.566386051242972,-6.2055472151054545,-3.5832971470313595,4.614746374462868,-8.224392254286471,-24.4771062490357,16.69768296011752,5.4405636711068155,8.297045876775911,8.926506955666682,-4.803367295227247,-10.071021291394047,1.1996702462675017,-9.366927150650753,10.41664841612068,7.986973152583246,-5.5185462412186155,-3.9677795941692153,-16.644422761601703,-4.817355543175637,11.300187877971496,7.2300418435608975,-7.591772643861276,-16.079194052380032,8.347889774589262,-19.154919129106062,-13.761773524104242,-8.547663101603263,4.237498102424269,9.564851504186635,1.4604586205075378,3.6534207041127615,16.54777659435372,3.613424067005269,-8.47158904301672,12.454421794229035,-1.3186104522368964,21.749942148099137,-8.540315021737044,-0.9814628465341002,-6.6179370964043045,-11.124411269159637,1.2932465378945608,-5.21033157763658,3.4188523807731315,20.014802278798385,4.027427979230396,3.5548450610749,9.10777671243379,-2.4033199075663845,13.114807109477411,13.102118153101372,-0.4328025308757901,5.472038456618463,-5.292592480207915,-7.203929781535521,-8.285852051445332,-10.89923050539528,4.6057800246201595,6.683549186049532,-1.537373271146862,3.2571038747051233,7.077315980164954,15.278478676138505,-3.4126783745920335,3.569681151995624,-14.144331616295759,4.805850822798604,5.835583226890918,4.236166215196093,-2.207448964382152,9.866019625501735,-3.676591282499146,5.665035173472376,-3.915281273982231,4.398738578159737,-1.7392425131673264,-23.17654672515367,-7.859230423458399,-8.926035224451823,17.38997356100991,0.5291767025817933,-13.018022822234443,-0.5406687725129444,3.334617326266283,-8.401810323309306,-4.870950787743212,2.826026243472697,18.487065792477523,-20.929311989128024,-1.6174039724209024,1.1715625378865866,-0.48288456837683214,10.239123592419475,20.141317259460777,3.3542822798927148,11.650628400263443,0.5400979855982939,-24.34238486769341,2.9448983747132473,-17.43498760397273,8.371851004706272,3.9436169172179234,-11.432540033257439,-12.666308467386656,14.046901899964553,10.221396868290782,0.5321904103551418,10.72823489364778,19.27464204665432,-2.760789589301851,1.8495940538547586,17.990901855083038,-0.8907489533053194,3.7386814903158836,-16.62975487708411,11.18229928355835,-2.96097374552005,12.459600235447468,-1.557000957865867,-2.8182252739223372,-3.0082636530820537,-16.1199860662,8.438454951595759,17.820781901520647,3.746784543423175,12.869331512323527,3.6134723429902635,-8.197286627666188,-7.028719048624339],\"xaxis\":\"x\",\"yaxis\":\"y\",\"type\":\"histogram\"}],                        {\"template\":{\"data\":{\"histogram2dcontour\":[{\"type\":\"histogram2dcontour\",\"colorbar\":{\"outlinewidth\":0,\"ticks\":\"\"},\"colorscale\":[[0.0,\"#0d0887\"],[0.1111111111111111,\"#46039f\"],[0.2222222222222222,\"#7201a8\"],[0.3333333333333333,\"#9c179e\"],[0.4444444444444444,\"#bd3786\"],[0.5555555555555556,\"#d8576b\"],[0.6666666666666666,\"#ed7953\"],[0.7777777777777778,\"#fb9f3a\"],[0.8888888888888888,\"#fdca26\"],[1.0,\"#f0f921\"]]}],\"choropleth\":[{\"type\":\"choropleth\",\"colorbar\":{\"outlinewidth\":0,\"ticks\":\"\"}}],\"histogram2d\":[{\"type\":\"histogram2d\",\"colorbar\":{\"outlinewidth\":0,\"ticks\":\"\"},\"colorscale\":[[0.0,\"#0d0887\"],[0.1111111111111111,\"#46039f\"],[0.2222222222222222,\"#7201a8\"],[0.3333333333333333,\"#9c179e\"],[0.4444444444444444,\"#bd3786\"],[0.5555555555555556,\"#d8576b\"],[0.6666666666666666,\"#ed7953\"],[0.7777777777777778,\"#fb9f3a\"],[0.8888888888888888,\"#fdca26\"],[1.0,\"#f0f921\"]]}],\"heatmap\":[{\"type\":\"heatmap\",\"colorbar\":{\"outlinewidth\":0,\"ticks\":\"\"},\"colorscale\":[[0.0,\"#0d0887\"],[0.1111111111111111,\"#46039f\"],[0.2222222222222222,\"#7201a8\"],[0.3333333333333333,\"#9c179e\"],[0.4444444444444444,\"#bd3786\"],[0.5555555555555556,\"#d8576b\"],[0.6666666666666666,\"#ed7953\"],[0.7777777777777778,\"#fb9f3a\"],[0.8888888888888888,\"#fdca26\"],[1.0,\"#f0f921\"]]}],\"heatmapgl\":[{\"type\":\"heatmapgl\",\"colorbar\":{\"outlinewidth\":0,\"ticks\":\"\"},\"colorscale\":[[0.0,\"#0d0887\"],[0.1111111111111111,\"#46039f\"],[0.2222222222222222,\"#7201a8\"],[0.3333333333333333,\"#9c179e\"],[0.4444444444444444,\"#bd3786\"],[0.5555555555555556,\"#d8576b\"],[0.6666666666666666,\"#ed7953\"],[0.7777777777777778,\"#fb9f3a\"],[0.8888888888888888,\"#fdca26\"],[1.0,\"#f0f921\"]]}],\"contourcarpet\":[{\"type\":\"contourcarpet\",\"colorbar\":{\"outlinewidth\":0,\"ticks\":\"\"}}],\"contour\":[{\"type\":\"contour\",\"colorbar\":{\"outlinewidth\":0,\"ticks\":\"\"},\"colorscale\":[[0.0,\"#0d0887\"],[0.1111111111111111,\"#46039f\"],[0.2222222222222222,\"#7201a8\"],[0.3333333333333333,\"#9c179e\"],[0.4444444444444444,\"#bd3786\"],[0.5555555555555556,\"#d8576b\"],[0.6666666666666666,\"#ed7953\"],[0.7777777777777778,\"#fb9f3a\"],[0.8888888888888888,\"#fdca26\"],[1.0,\"#f0f921\"]]}],\"surface\":[{\"type\":\"surface\",\"colorbar\":{\"outlinewidth\":0,\"ticks\":\"\"},\"colorscale\":[[0.0,\"#0d0887\"],[0.1111111111111111,\"#46039f\"],[0.2222222222222222,\"#7201a8\"],[0.3333333333333333,\"#9c179e\"],[0.4444444444444444,\"#bd3786\"],[0.5555555555555556,\"#d8576b\"],[0.6666666666666666,\"#ed7953\"],[0.7777777777777778,\"#fb9f3a\"],[0.8888888888888888,\"#fdca26\"],[1.0,\"#f0f921\"]]}],\"mesh3d\":[{\"type\":\"mesh3d\",\"colorbar\":{\"outlinewidth\":0,\"ticks\":\"\"}}],\"scatter\":[{\"fillpattern\":{\"fillmode\":\"overlay\",\"size\":10,\"solidity\":0.2},\"type\":\"scatter\"}],\"parcoords\":[{\"type\":\"parcoords\",\"line\":{\"colorbar\":{\"outlinewidth\":0,\"ticks\":\"\"}}}],\"scatterpolargl\":[{\"type\":\"scatterpolargl\",\"marker\":{\"colorbar\":{\"outlinewidth\":0,\"ticks\":\"\"}}}],\"bar\":[{\"error_x\":{\"color\":\"#2a3f5f\"},\"error_y\":{\"color\":\"#2a3f5f\"},\"marker\":{\"line\":{\"color\":\"#E5ECF6\",\"width\":0.5},\"pattern\":{\"fillmode\":\"overlay\",\"size\":10,\"solidity\":0.2}},\"type\":\"bar\"}],\"scattergeo\":[{\"type\":\"scattergeo\",\"marker\":{\"colorbar\":{\"outlinewidth\":0,\"ticks\":\"\"}}}],\"scatterpolar\":[{\"type\":\"scatterpolar\",\"marker\":{\"colorbar\":{\"outlinewidth\":0,\"ticks\":\"\"}}}],\"histogram\":[{\"marker\":{\"pattern\":{\"fillmode\":\"overlay\",\"size\":10,\"solidity\":0.2}},\"type\":\"histogram\"}],\"scattergl\":[{\"type\":\"scattergl\",\"marker\":{\"colorbar\":{\"outlinewidth\":0,\"ticks\":\"\"}}}],\"scatter3d\":[{\"type\":\"scatter3d\",\"line\":{\"colorbar\":{\"outlinewidth\":0,\"ticks\":\"\"}},\"marker\":{\"colorbar\":{\"outlinewidth\":0,\"ticks\":\"\"}}}],\"scattermapbox\":[{\"type\":\"scattermapbox\",\"marker\":{\"colorbar\":{\"outlinewidth\":0,\"ticks\":\"\"}}}],\"scatterternary\":[{\"type\":\"scatterternary\",\"marker\":{\"colorbar\":{\"outlinewidth\":0,\"ticks\":\"\"}}}],\"scattercarpet\":[{\"type\":\"scattercarpet\",\"marker\":{\"colorbar\":{\"outlinewidth\":0,\"ticks\":\"\"}}}],\"carpet\":[{\"aaxis\":{\"endlinecolor\":\"#2a3f5f\",\"gridcolor\":\"white\",\"linecolor\":\"white\",\"minorgridcolor\":\"white\",\"startlinecolor\":\"#2a3f5f\"},\"baxis\":{\"endlinecolor\":\"#2a3f5f\",\"gridcolor\":\"white\",\"linecolor\":\"white\",\"minorgridcolor\":\"white\",\"startlinecolor\":\"#2a3f5f\"},\"type\":\"carpet\"}],\"table\":[{\"cells\":{\"fill\":{\"color\":\"#EBF0F8\"},\"line\":{\"color\":\"white\"}},\"header\":{\"fill\":{\"color\":\"#C8D4E3\"},\"line\":{\"color\":\"white\"}},\"type\":\"table\"}],\"barpolar\":[{\"marker\":{\"line\":{\"color\":\"#E5ECF6\",\"width\":0.5},\"pattern\":{\"fillmode\":\"overlay\",\"size\":10,\"solidity\":0.2}},\"type\":\"barpolar\"}],\"pie\":[{\"automargin\":true,\"type\":\"pie\"}]},\"layout\":{\"autotypenumbers\":\"strict\",\"colorway\":[\"#636efa\",\"#EF553B\",\"#00cc96\",\"#ab63fa\",\"#FFA15A\",\"#19d3f3\",\"#FF6692\",\"#B6E880\",\"#FF97FF\",\"#FECB52\"],\"font\":{\"color\":\"#2a3f5f\"},\"hovermode\":\"closest\",\"hoverlabel\":{\"align\":\"left\"},\"paper_bgcolor\":\"white\",\"plot_bgcolor\":\"#E5ECF6\",\"polar\":{\"bgcolor\":\"#E5ECF6\",\"angularaxis\":{\"gridcolor\":\"white\",\"linecolor\":\"white\",\"ticks\":\"\"},\"radialaxis\":{\"gridcolor\":\"white\",\"linecolor\":\"white\",\"ticks\":\"\"}},\"ternary\":{\"bgcolor\":\"#E5ECF6\",\"aaxis\":{\"gridcolor\":\"white\",\"linecolor\":\"white\",\"ticks\":\"\"},\"baxis\":{\"gridcolor\":\"white\",\"linecolor\":\"white\",\"ticks\":\"\"},\"caxis\":{\"gridcolor\":\"white\",\"linecolor\":\"white\",\"ticks\":\"\"}},\"coloraxis\":{\"colorbar\":{\"outlinewidth\":0,\"ticks\":\"\"}},\"colorscale\":{\"sequential\":[[0.0,\"#0d0887\"],[0.1111111111111111,\"#46039f\"],[0.2222222222222222,\"#7201a8\"],[0.3333333333333333,\"#9c179e\"],[0.4444444444444444,\"#bd3786\"],[0.5555555555555556,\"#d8576b\"],[0.6666666666666666,\"#ed7953\"],[0.7777777777777778,\"#fb9f3a\"],[0.8888888888888888,\"#fdca26\"],[1.0,\"#f0f921\"]],\"sequentialminus\":[[0.0,\"#0d0887\"],[0.1111111111111111,\"#46039f\"],[0.2222222222222222,\"#7201a8\"],[0.3333333333333333,\"#9c179e\"],[0.4444444444444444,\"#bd3786\"],[0.5555555555555556,\"#d8576b\"],[0.6666666666666666,\"#ed7953\"],[0.7777777777777778,\"#fb9f3a\"],[0.8888888888888888,\"#fdca26\"],[1.0,\"#f0f921\"]],\"diverging\":[[0,\"#8e0152\"],[0.1,\"#c51b7d\"],[0.2,\"#de77ae\"],[0.3,\"#f1b6da\"],[0.4,\"#fde0ef\"],[0.5,\"#f7f7f7\"],[0.6,\"#e6f5d0\"],[0.7,\"#b8e186\"],[0.8,\"#7fbc41\"],[0.9,\"#4d9221\"],[1,\"#276419\"]]},\"xaxis\":{\"gridcolor\":\"white\",\"linecolor\":\"white\",\"ticks\":\"\",\"title\":{\"standoff\":15},\"zerolinecolor\":\"white\",\"automargin\":true,\"zerolinewidth\":2},\"yaxis\":{\"gridcolor\":\"white\",\"linecolor\":\"white\",\"ticks\":\"\",\"title\":{\"standoff\":15},\"zerolinecolor\":\"white\",\"automargin\":true,\"zerolinewidth\":2},\"scene\":{\"xaxis\":{\"backgroundcolor\":\"#E5ECF6\",\"gridcolor\":\"white\",\"linecolor\":\"white\",\"showbackground\":true,\"ticks\":\"\",\"zerolinecolor\":\"white\",\"gridwidth\":2},\"yaxis\":{\"backgroundcolor\":\"#E5ECF6\",\"gridcolor\":\"white\",\"linecolor\":\"white\",\"showbackground\":true,\"ticks\":\"\",\"zerolinecolor\":\"white\",\"gridwidth\":2},\"zaxis\":{\"backgroundcolor\":\"#E5ECF6\",\"gridcolor\":\"white\",\"linecolor\":\"white\",\"showbackground\":true,\"ticks\":\"\",\"zerolinecolor\":\"white\",\"gridwidth\":2}},\"shapedefaults\":{\"line\":{\"color\":\"#2a3f5f\"}},\"annotationdefaults\":{\"arrowcolor\":\"#2a3f5f\",\"arrowhead\":0,\"arrowwidth\":1},\"geo\":{\"bgcolor\":\"white\",\"landcolor\":\"#E5ECF6\",\"subunitcolor\":\"white\",\"showland\":true,\"showlakes\":true,\"lakecolor\":\"white\"},\"title\":{\"x\":0.05},\"mapbox\":{\"style\":\"light\"}}},\"xaxis\":{\"anchor\":\"y\",\"domain\":[0.0,1.0],\"title\":{\"text\":\"error\"}},\"yaxis\":{\"anchor\":\"x\",\"domain\":[0.0,1.0],\"title\":{\"text\":\"count\"}},\"legend\":{\"tracegroupgap\":0},\"margin\":{\"t\":60},\"barmode\":\"relative\",\"width\":800},                        {\"responsive\": true}                    ).then(function(){\n",
              "                            \n",
              "var gd = document.getElementById('9ab3cd5d-72d2-4dd7-801b-430c4f23419d');\n",
              "var x = new MutationObserver(function (mutations, observer) {{\n",
              "        var display = window.getComputedStyle(gd).display;\n",
              "        if (!display || display === 'none') {{\n",
              "            console.log([gd, 'removed!']);\n",
              "            Plotly.purge(gd);\n",
              "            observer.disconnect();\n",
              "        }}\n",
              "}});\n",
              "\n",
              "// Listen for the removal of the full notebook cells\n",
              "var notebookContainer = gd.closest('#notebook-container');\n",
              "if (notebookContainer) {{\n",
              "    x.observe(notebookContainer, {childList: true});\n",
              "}}\n",
              "\n",
              "// Listen for the clearing of the current output cell\n",
              "var outputEl = gd.closest('.output');\n",
              "if (outputEl) {{\n",
              "    x.observe(outputEl, {childList: true});\n",
              "}}\n",
              "\n",
              "                        })                };                            </script>        </div>\n",
              "</body>\n",
              "</html>"
            ]
          },
          "metadata": {}
        }
      ]
    },
    {
      "cell_type": "markdown",
      "metadata": {
        "id": "ZVr1O1j3FFiM"
      },
      "source": [
        "### <a name='a3'></a> Mean Absolute Error - Średni błąd bezwzględny\n",
        "### $$MAE = \\frac{1}{n}\\sum_{i=1}^{n}|y_{true} - y_{pred}|$$"
      ]
    },
    {
      "cell_type": "code",
      "metadata": {
        "id": "4fwXpVNyFXBl",
        "outputId": "3931467b-d809-4c44-abb4-3abab79319db",
        "colab": {
          "base_uri": "https://localhost:8080/"
        }
      },
      "source": [
        "def mean_absolute_error(y_true, y_pred):\n",
        "    return abs(y_true - y_pred).sum() / len(y_true)\n",
        "\n",
        "mean_absolute_error(y_true, y_pred)"
      ],
      "execution_count": null,
      "outputs": [
        {
          "output_type": "execute_result",
          "data": {
            "text/plain": [
              "7.771271560850102"
            ]
          },
          "metadata": {},
          "execution_count": 8
        }
      ]
    },
    {
      "cell_type": "code",
      "metadata": {
        "id": "nOINyAyqErWz",
        "outputId": "3fe37f55-30ea-4ab3-bab1-487f83a26f8a",
        "colab": {
          "base_uri": "https://localhost:8080/"
        }
      },
      "source": [
        "from sklearn.metrics import mean_absolute_error\n",
        "mean_absolute_error(y_true, y_pred)"
      ],
      "execution_count": null,
      "outputs": [
        {
          "output_type": "execute_result",
          "data": {
            "text/plain": [
              "7.771271560850102"
            ]
          },
          "metadata": {},
          "execution_count": 9
        }
      ]
    },
    {
      "cell_type": "markdown",
      "metadata": {
        "id": "dbAtacGCGjaR"
      },
      "source": [
        "### <a name='a4'></a> Mean Squared Error - MSE - Błąd średniokwadratowy\n",
        "### $$MSE = \\frac{1}{n}\\sum_{i=1}^{n}(y_{true} - y_{pred})^{2}$$"
      ]
    },
    {
      "cell_type": "code",
      "metadata": {
        "id": "rikMpoD9E91I",
        "outputId": "5ded69b8-1e04-4bce-e72e-6904ae6dfaf9",
        "colab": {
          "base_uri": "https://localhost:8080/"
        }
      },
      "source": [
        "def mean_squared_error(y_true, y_pred):\n",
        "    return ((y_true - y_pred) ** 2).sum() / len(y_true)\n",
        "\n",
        "mean_squared_error(y_true, y_pred)"
      ],
      "execution_count": null,
      "outputs": [
        {
          "output_type": "execute_result",
          "data": {
            "text/plain": [
              "94.6850979786076"
            ]
          },
          "metadata": {},
          "execution_count": 10
        }
      ]
    },
    {
      "cell_type": "code",
      "metadata": {
        "id": "BxQx5HFaGzi5",
        "outputId": "164f8dad-c79f-4b08-99a4-6d4b24f35ac4",
        "colab": {
          "base_uri": "https://localhost:8080/"
        }
      },
      "source": [
        "from sklearn.metrics import mean_squared_error\n",
        "\n",
        "mean_squared_error(y_true, y_pred)"
      ],
      "execution_count": null,
      "outputs": [
        {
          "output_type": "execute_result",
          "data": {
            "text/plain": [
              "94.6850979786076"
            ]
          },
          "metadata": {},
          "execution_count": 11
        }
      ]
    },
    {
      "cell_type": "markdown",
      "metadata": {
        "id": "SKJJg3jNG-xj"
      },
      "source": [
        "### <a name='a5'></a> Root Mean Squared Error - RMSE - Pierwiastek błędu średniokwadratowego\n",
        "### $$RMSE = \\sqrt{MSE}$$"
      ]
    },
    {
      "cell_type": "code",
      "metadata": {
        "id": "ZoEokLM8G8JO",
        "outputId": "5337c800-7600-4abd-c269-692486beaf7c",
        "colab": {
          "base_uri": "https://localhost:8080/"
        }
      },
      "source": [
        "def root_mean_squared_error(y_true, y_pred):\n",
        "    return np.sqrt(((y_true - y_pred) ** 2).sum() / len(y_true))\n",
        "\n",
        "root_mean_squared_error(y_true, y_pred)"
      ],
      "execution_count": null,
      "outputs": [
        {
          "output_type": "execute_result",
          "data": {
            "text/plain": [
              "9.730626802966373"
            ]
          },
          "metadata": {},
          "execution_count": 12
        }
      ]
    },
    {
      "cell_type": "code",
      "metadata": {
        "id": "VEdgXl5PHdEQ",
        "outputId": "b20b1ec5-3991-443a-9cbe-1c6bd35dba97",
        "colab": {
          "base_uri": "https://localhost:8080/"
        }
      },
      "source": [
        "np.sqrt(mean_squared_error(y_true, y_pred))"
      ],
      "execution_count": null,
      "outputs": [
        {
          "output_type": "execute_result",
          "data": {
            "text/plain": [
              "9.730626802966373"
            ]
          },
          "metadata": {},
          "execution_count": 13
        }
      ]
    },
    {
      "cell_type": "markdown",
      "metadata": {
        "id": "wzS5t7dzIH-x"
      },
      "source": [
        "### <a name='a6'></a>  Max Error - Błąd maksymalny\n",
        "\n",
        "$$ME = max(|y\\_true - y\\_pred|)$$"
      ]
    },
    {
      "cell_type": "code",
      "metadata": {
        "id": "0v4d3b_FHsYO"
      },
      "source": [
        "def max_error(y_true, y_pred):\n",
        "    return abs(y_true - y_pred).max()"
      ],
      "execution_count": null,
      "outputs": []
    },
    {
      "cell_type": "code",
      "metadata": {
        "id": "IbSGizXdH1Fc",
        "outputId": "a6109c47-ff68-41dc-d25f-1567d9ceec5a",
        "colab": {
          "base_uri": "https://localhost:8080/"
        }
      },
      "source": [
        "max_error(y_true, y_pred)"
      ],
      "execution_count": null,
      "outputs": [
        {
          "output_type": "execute_result",
          "data": {
            "text/plain": [
              "35.295737025438"
            ]
          },
          "metadata": {},
          "execution_count": 15
        }
      ]
    },
    {
      "cell_type": "code",
      "metadata": {
        "id": "NQPVS0cSIAsC",
        "outputId": "c3aa91cf-1339-450b-ce6e-7f316c32ad7f",
        "colab": {
          "base_uri": "https://localhost:8080/"
        }
      },
      "source": [
        "from sklearn.metrics import max_error\n",
        "\n",
        "max_error(y_true, y_pred)"
      ],
      "execution_count": null,
      "outputs": [
        {
          "output_type": "execute_result",
          "data": {
            "text/plain": [
              "35.295737025438"
            ]
          },
          "metadata": {},
          "execution_count": 16
        }
      ]
    },
    {
      "cell_type": "markdown",
      "metadata": {
        "id": "xRrH2NA5IYt9"
      },
      "source": [
        "### <a name='a7'></a>  R2 score - współczynnik determinacji\n",
        "### $$R2\\_score = 1 - \\frac{\\sum_{i=1}^{N}(y_{true} - y_{pred})^{2}}{\\sum_{i=1}^{N}(y_{true} - \\overline{y_{true}})^{2}}$$"
      ]
    },
    {
      "cell_type": "code",
      "metadata": {
        "id": "ePP8ovwPIGu0",
        "outputId": "6dea4f0b-4124-4aed-f8c9-56717552e536",
        "colab": {
          "base_uri": "https://localhost:8080/"
        }
      },
      "source": [
        "from sklearn.metrics import r2_score\n",
        "\n",
        "r2_score(y_true, y_pred)"
      ],
      "execution_count": null,
      "outputs": [
        {
          "output_type": "execute_result",
          "data": {
            "text/plain": [
              "0.7644107287039972"
            ]
          },
          "metadata": {},
          "execution_count": 17
        }
      ]
    },
    {
      "cell_type": "code",
      "metadata": {
        "id": "GWtiZRcPIsdP"
      },
      "source": [
        "def r2_score(y_true, y_pred):\n",
        "    numerator = ((y_true - y_pred) ** 2).sum()\n",
        "    denominator = ((y_true - y_true.mean()) ** 2).sum()\n",
        "    try:\n",
        "        r2 = 1 - numerator / denominator\n",
        "    except ZeroDivisionError:\n",
        "        print('Dzielenie przez zero')\n",
        "    return r2"
      ],
      "execution_count": null,
      "outputs": []
    },
    {
      "cell_type": "code",
      "metadata": {
        "id": "q4LYk_8oJNTP",
        "outputId": "7eec1817-3cca-4c59-d350-dc9efd1d615f",
        "colab": {
          "base_uri": "https://localhost:8080/"
        }
      },
      "source": [
        "r2_score(y_true, y_pred)"
      ],
      "execution_count": null,
      "outputs": [
        {
          "output_type": "execute_result",
          "data": {
            "text/plain": [
              "0.7644107287039972"
            ]
          },
          "metadata": {},
          "execution_count": 19
        }
      ]
    },
    {
      "cell_type": "code",
      "metadata": {
        "id": "xuBi36i72dOY"
      },
      "source": [],
      "execution_count": null,
      "outputs": []
    }
  ]
}